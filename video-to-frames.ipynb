{
 "cells": [
  {
   "cell_type": "code",
   "execution_count": 1,
   "id": "6bfea1b2",
   "metadata": {},
   "outputs": [],
   "source": [
    "import cv2\n",
    "import os"
   ]
  },
  {
   "cell_type": "code",
   "execution_count": 2,
   "id": "a3716282",
   "metadata": {},
   "outputs": [],
   "source": [
    "def extract_frames_from_video(video_path, frames_dir):\n",
    "    # Open the video file\n",
    "    cap = cv2.VideoCapture(video_path)\n",
    "\n",
    "    # Create the frames directory if it doesn't exist\n",
    "    os.makedirs(frames_dir, exist_ok=True)\n",
    "\n",
    "    # Get the frames from the video\n",
    "    i = 0\n",
    "    while True:\n",
    "        ret, frame = cap.read()\n",
    "        if not ret:\n",
    "            break\n",
    "\n",
    "        # Save the frame as an image\n",
    "        cv2.imwrite(os.path.join(frames_dir, f'{i}.jpg'), frame)\n",
    "        i += 1\n",
    "\n",
    "    # Release the video capture\n",
    "    cap.release()\n",
    "\n",
    "def convert_videos_to_frames(videos_dir, frames_dir):\n",
    "    # Iterate over all the videos in the videos directory\n",
    "    for video_filename in os.listdir(videos_dir):\n",
    "        video_path = os.path.join(videos_dir, video_filename)\n",
    "        video_frames_dir = os.path.join(frames_dir, os.path.splitext(video_filename)[0])\n",
    "        extract_frames_from_video(video_path, video_frames_dir)"
   ]
  },
  {
   "cell_type": "code",
   "execution_count": 13,
   "id": "f899de92",
   "metadata": {},
   "outputs": [],
   "source": [
    "convert_videos_to_frames('train_videos/Welcome', 'train_frames/Welcome')"
   ]
  }
 ],
 "metadata": {
  "kernelspec": {
   "display_name": "Python 3 (ipykernel)",
   "language": "python",
   "name": "python3"
  },
  "language_info": {
   "codemirror_mode": {
    "name": "ipython",
    "version": 3
   },
   "file_extension": ".py",
   "mimetype": "text/x-python",
   "name": "python",
   "nbconvert_exporter": "python",
   "pygments_lexer": "ipython3",
   "version": "3.10.6"
  }
 },
 "nbformat": 4,
 "nbformat_minor": 5
}
